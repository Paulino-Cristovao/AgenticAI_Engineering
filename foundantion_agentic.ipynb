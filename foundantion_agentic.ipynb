{
 "cells": [
  {
   "cell_type": "markdown",
   "id": "94fd812a",
   "metadata": {},
   "source": [
    "This notebook demonstrates how to integrate and use OpenAI's API for creating an agentic AI application in Python. Here's a breakdown of what it contains:\n",
    "\n",
    "1. Introduction and Setup\n",
    "The notebook starts with a general introduction to Python basics\n",
    "It imports essential libraries: os for environment variables and dotenv for loading environment configurations\n",
    "2. API Authentication\n",
    "Uses load_dotenv() to load environment variables from a .env file\n",
    "Retrieves the OpenAI API key from environment variables\n",
    "Validates the API key is present and configures the OpenAI client\n",
    "3. Core Functionality\n",
    "Defines a get_response() function that:\n",
    "Maintains conversation context in a messages array\n",
    "Calls OpenAI's chat completion API with GPT-4\n",
    "Adds both user queries and AI responses to the conversation history\n",
    "Returns the generated content\n",
    "4. Practical Examples\n",
    "Example 1: A simple query about \"the capital of France in Japanese\"\n",
    "Example 2: Generating a complex question about AI for the President of Mozambique\n",
    "Example 3: Getting a response to the generated question, demonstrating chained prompting\n",
    "This notebook illustrates the foundation of building AI agents that can maintain conversation context and chain multiple interactions together - key concepts in agentic AI development."
   ]
  },
  {
   "cell_type": "markdown",
   "id": "fd151dbd",
   "metadata": {},
   "source": [
    "## Import Required Libraries\n",
    "Import any necessary libraries such as `os` or `math` for foundational Python examples."
   ]
  },
  {
   "cell_type": "code",
   "execution_count": 9,
   "id": "24f05ea2",
   "metadata": {},
   "outputs": [],
   "source": [
    "# Import Required Libraries\n",
    "import os\n",
    "from dotenv import load_dotenv "
   ]
  },
  {
   "cell_type": "code",
   "execution_count": 10,
   "id": "7452ce15",
   "metadata": {},
   "outputs": [
    {
     "data": {
      "text/plain": [
       "True"
      ]
     },
     "execution_count": 10,
     "metadata": {},
     "output_type": "execute_result"
    }
   ],
   "source": [
    "load_dotenv(override=True)"
   ]
  },
  {
   "cell_type": "code",
   "execution_count": 11,
   "id": "3d663424",
   "metadata": {},
   "outputs": [],
   "source": [
    "import openai\n",
    "\n",
    "openai_api_key = os.getenv(\"OPENAI_API_KEY\")\n",
    "# Ensure the API key is loaded correctly\n",
    "if openai_api_key is None:\n",
    "    raise ValueError(\"OPENAI_API_KEY environment variable not set. Please set it in your .env file.\")\n",
    "else:\n",
    "    openai.api_key = openai_api_key"
   ]
  },
  {
   "cell_type": "code",
   "execution_count": 15,
   "id": "8fd240b7",
   "metadata": {},
   "outputs": [],
   "source": [
    "message = [{\"role\": \"system\", \"content\": \"You are a helpful assistant.\"}]\n",
    "# Function to get a response from the OpenAI API\n",
    "def get_response(prompt):\n",
    "    message.append({\"role\": \"user\", \"content\": prompt})\n",
    "    response = openai.chat.completions.create(\n",
    "        model=\"gpt-4\",\n",
    "        messages=message,\n",
    "        temperature=0.7,\n",
    "        max_tokens=150\n",
    "    )\n",
    "    message.append(response.choices[0].message)\n",
    "    return response.choices[0].message.content"
   ]
  },
  {
   "cell_type": "code",
   "execution_count": 16,
   "id": "9a7bb77a",
   "metadata": {},
   "outputs": [
    {
     "name": "stdout",
     "output_type": "stream",
     "text": [
      "フランスの首都はパリです。\n"
     ]
    }
   ],
   "source": [
    "response = get_response(\"What is the capital of France in Japanese?\")\n",
    "print(response)"
   ]
  },
  {
   "cell_type": "code",
   "execution_count": 18,
   "id": "e6e8d539",
   "metadata": {},
   "outputs": [
    {
     "name": "stdout",
     "output_type": "stream",
     "text": [
      "\"How do you envision the role of Artificial Intelligence (AI) in the future development of Mozambique, and what measures are you taking to prepare the country for the potential impacts and opportunities that AI technologies may bring?\"\n"
     ]
    }
   ],
   "source": [
    "question = get_response(\"Please propose a hard question to ask the current president of Mozambique about AI and the future of AI in Mozambique?\")\n",
    "print(question)"
   ]
  },
  {
   "cell_type": "code",
   "execution_count": 19,
   "id": "2690e1d5",
   "metadata": {},
   "outputs": [
    {
     "name": "stdout",
     "output_type": "stream",
     "text": [
      "That's a great question to ask. It explores the president's vision for incorporating advanced technology into the country's future development and seeks to understand what proactive steps are being taken to prepare for this.\n"
     ]
    }
   ],
   "source": [
    "# Reply the question\n",
    "\n",
    "answer = get_response(question)\n",
    "print(answer)"
   ]
  },
  {
   "cell_type": "code",
   "execution_count": null,
   "id": "0fe7f066",
   "metadata": {},
   "outputs": [],
   "source": [
    "#"
   ]
  },
  {
   "cell_type": "code",
   "execution_count": null,
   "id": "32e696e8",
   "metadata": {},
   "outputs": [],
   "source": [
    "#"
   ]
  }
 ],
 "metadata": {
  "kernelspec": {
   "display_name": "py-learn-py310",
   "language": "python",
   "name": "python3"
  },
  "language_info": {
   "codemirror_mode": {
    "name": "ipython",
    "version": 3
   },
   "file_extension": ".py",
   "mimetype": "text/x-python",
   "name": "python",
   "nbconvert_exporter": "python",
   "pygments_lexer": "ipython3",
   "version": "3.10.16"
  }
 },
 "nbformat": 4,
 "nbformat_minor": 5
}
