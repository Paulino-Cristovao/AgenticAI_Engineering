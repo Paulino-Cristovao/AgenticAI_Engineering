{
 "cells": [
  {
   "cell_type": "code",
   "execution_count": 21,
   "id": "7e1aec6a",
   "metadata": {},
   "outputs": [],
   "source": [
    "from dotenv import load_dotenv\n",
    "from openai import OpenAI\n",
    "import openai\n",
    "import os\n",
    "import sys\n",
    "from pypdf import PdfReader\n",
    "import gradio as gr"
   ]
  },
  {
   "cell_type": "code",
   "execution_count": 22,
   "id": "dab0ca7f",
   "metadata": {},
   "outputs": [],
   "source": [
    "load_dotenv(override=True)\n",
    "openai_api_key = os.getenv(\"OPENAI_API_KEY\")\n",
    "gemini_api_key = os.getenv(\"GEMINI_API_KEY\")\n",
    "\n",
    "# Ensure the API keys are loaded correctly\n",
    "if openai_api_key is None:\n",
    "    raise ValueError(\"OPENAI_API_KEY environment variable not set. Please set it in your .env file.\")\n",
    "else:\n",
    "    openai.api_key = openai_api_key\n",
    "\n",
    "if gemini_api_key is None:\n",
    "    raise ValueError(\"GEMINI_API_KEY environment variable not set. Please set it in your .env file.\")\n",
    "else:\n",
    "    # Return both API keys\n",
    "    (openai_api_key, gemini_api_key)\n"
   ]
  },
  {
   "cell_type": "code",
   "execution_count": 4,
   "id": "eabed0e5",
   "metadata": {},
   "outputs": [],
   "source": [
    "opneai = OpenAI()"
   ]
  },
  {
   "cell_type": "code",
   "execution_count": 6,
   "id": "64ee2254",
   "metadata": {},
   "outputs": [],
   "source": [
    "reader = PdfReader(\"Profile.pdf\")\n",
    "def read_pdf(file):\n",
    "    text = \"\"\n",
    "    with open(file, \"rb\") as f:\n",
    "        reader = PdfReader(f)\n",
    "        for page in reader.pages:\n",
    "            text += page.extract_text()\n",
    "    return text\n"
   ]
  },
  {
   "cell_type": "code",
   "execution_count": 18,
   "id": "cf02baed",
   "metadata": {},
   "outputs": [
    {
     "name": "stdout",
     "output_type": "stream",
     "text": [
      "Reading PDF...\n"
     ]
    },
    {
     "data": {
      "text/markdown": [
       "   \n",
       "Contact\n",
       "Paris - France\n",
       "+33766654028 (Mobile)\n",
       "paulinocristovao@yahoo.com.\n",
       "br\n",
       "www.linkedin.com/in/paulino-\n",
       "cristovao-aa685986 (LinkedIn)\n",
       "sciam.fr/en/ (Personal)\n",
       "Top Skills\n",
       "Network Engineering\n",
       "Python (Programming Language)\n",
       "Microsoft Azure Machine Learning\n",
       "Languages\n",
       "Portuguese (Native or Bilingual)\n",
       "Spanish (Professional Working)\n",
       "English (Native or Bilingual)\n",
       "French (Professional Working)\n",
       "Japanese (Limited Working)\n",
       "Paulino Cristovao\n",
       "Data Scientist | Machine Learning | AI Engineer | Data Engineer\n",
       "Courbevoie, Île-de-France, France\n",
       "Experience\n",
       "SCIAM\n",
       "Data Engineer\n",
       "June 2023 - Present (2 years)\n",
       "Paris, Île-de-France, France\n",
       "Technologies\n",
       "We identify, design, and implement innovative and robust technological\n",
       "solutions to solve our clients’ concrete problems.\n",
       "Behavioral science\n",
       "We analyze cognitive behaviors to understand the inner workings of individuals\n",
       "and organizations, and to optimize their decision-making processes, habits,\n",
       "and use of technology.\n",
       "Organizations\n",
       "In partnership with the world's first school of collective intelligence, we are\n",
       "inventing and testing new methods to effectively solve today's and tomorrow’s\n",
       "complex problems.\n",
       "University of Poitiers\n",
       "Postdoctoral Researcher\n",
       "April 2022 - June 2023 (1 year 3 months)\n",
       "France\n",
       "iSheriff\n",
       "Tech Support\n",
       "May 2014 - June 2023 (9 years 2 months)\n",
       "Technical Support\n",
       "Total Defense Inc.\n",
       "IT\n",
       "August 2013 - June 2023 (9 years 11 months)\n",
       "customers technical support\n",
       "Totaldefense\n",
       "  Page 1 of 2   \n",
       "TDI\n",
       "August 2012 - June 2023 (10 years 11 months)\n",
       "Technical support\n",
       "iYogi Inc.\n",
       "iyogi Technical service\n",
       "August 2012 - June 2023 (10 years 11 months)\n",
       "Technical Support\n",
       "Education\n",
       "University of Tsukuba\n",
       "Doctor of Philosophy - PhD, Computer Science · (2019 - 2022)\n",
       "University of Poitiers\n",
       "Posdoctoral, Machine Learniing · (April 2022 - April 2023)\n",
       "University of Tsukuba\n",
       "Master of Computer Science, Machine Learning · (2016 - 2019)\n",
       "University of Pune\n",
       "Bachelor of Science (BSc), Computer Science · (2009 - 2013)\n",
       "Mercury Solutions\n",
       "Diploma, IT security\n",
       "  Page 2 of 2"
      ],
      "text/plain": [
       "<IPython.core.display.Markdown object>"
      ]
     },
     "metadata": {},
     "output_type": "display_data"
    }
   ],
   "source": [
    "from IPython.display import Markdown, display\n",
    "\n",
    "print(\"Reading PDF...\")\n",
    "linkedin = read_pdf(\"Profile.pdf\")\n",
    "display(Markdown(linkedin))"
   ]
  },
  {
   "cell_type": "code",
   "execution_count": 13,
   "id": "26a442c6",
   "metadata": {},
   "outputs": [],
   "source": [
    "with open(\"Profile.txt\", \"r\", encoding=\"utf-8\") as f:\n",
    "    summary = f.read() "
   ]
  },
  {
   "cell_type": "code",
   "execution_count": 14,
   "id": "c7d6e483",
   "metadata": {},
   "outputs": [
    {
     "data": {
      "text/markdown": [
       "   \n",
       "Contact\n",
       "Paris - France\n",
       "+33766654028 (Mobile)\n",
       "paulinocristovao@yahoo.com.\n",
       "br\n",
       "www.linkedin.com/in/paulino-\n",
       "cristovao-aa685986 (LinkedIn)\n",
       "sciam.fr/en/ (Personal)\n",
       "Top Skills\n",
       "Network Engineering\n",
       "Python (Programming Language)\n",
       "Microsoft Azure Machine Learning\n",
       "Languages\n",
       "Portuguese (Native or Bilingual)\n",
       "Spanish (Professional Working)\n",
       "English (Native or Bilingual)\n",
       "French (Professional Working)\n",
       "Japanese (Limited Working)\n",
       "Paulino Cristovao\n",
       "Data Scientist | Machine Learning | AI Engineer | Data Engineer\n",
       "Courbevoie, Île-de-France, France\n",
       "Experience\n",
       "SCIAM\n",
       "Data Engineer\n",
       "June 2023 - Present (2 years)\n",
       "Paris, Île-de-France, France\n",
       "Technologies\n",
       "We identify, design, and implement innovative and robust technological\n",
       "solutions to solve our clients’ concrete problems.\n",
       "Behavioral science\n",
       "We analyze cognitive behaviors to understand the inner workings of individuals\n",
       "and organizations, and to optimize their decision-making processes, habits,\n",
       "and use of technology.\n",
       "Organizations\n",
       "In partnership with the world's first school of collective intelligence, we are\n",
       "inventing and testing new methods to effectively solve today's and tomorrow’s\n",
       "complex problems.\n",
       "University of Poitiers\n",
       "Postdoctoral Researcher\n",
       "April 2022 - June 2023 (1 year 3 months)\n",
       "France\n",
       "iSheriff\n",
       "Tech Support\n",
       "May 2014 - June 2023 (9 years 2 months)\n",
       "Technical Support\n",
       "Total Defense Inc.\n",
       "IT\n",
       "August 2013 - June 2023 (9 years 11 months)\n",
       "customers technical support\n",
       "Totaldefense\n",
       "  Page 1 of 2   \n",
       "TDI\n",
       "August 2012 - June 2023 (10 years 11 months)\n",
       "Technical support\n",
       "iYogi Inc.\n",
       "iyogi Technical service\n",
       "August 2012 - June 2023 (10 years 11 months)\n",
       "Technical Support\n",
       "Education\n",
       "University of Tsukuba\n",
       "Doctor of Philosophy - PhD, Computer Science · (2019 - 2022)\n",
       "University of Poitiers\n",
       "Posdoctoral, Machine Learniing · (April 2022 - April 2023)\n",
       "University of Tsukuba\n",
       "Master of Computer Science, Machine Learning · (2016 - 2019)\n",
       "University of Pune\n",
       "Bachelor of Science (BSc), Computer Science · (2009 - 2013)\n",
       "Mercury Solutions\n",
       "Diploma, IT security\n",
       "  Page 2 of 2"
      ],
      "text/plain": [
       "<IPython.core.display.Markdown object>"
      ]
     },
     "metadata": {},
     "output_type": "display_data"
    }
   ],
   "source": [
    "display(Markdown(summary))"
   ]
  },
  {
   "cell_type": "code",
   "execution_count": 16,
   "id": "fe518ba8",
   "metadata": {},
   "outputs": [],
   "source": [
    "name = \"Paulino\""
   ]
  },
  {
   "cell_type": "code",
   "execution_count": 19,
   "id": "44776668",
   "metadata": {},
   "outputs": [],
   "source": [
    "system_prompt = f\"\"\"\n",
    "You are a helpful assistant. You will be given a text about a person named {name}, and you will answer questions based on the provided information. \n",
    "If you don't know the answer, respond with \"I don't know.\"\n",
    "\n",
    "### Text:\n",
    "{linkedin}\n",
    "\n",
    "### Summary:\n",
    "{summary}\n",
    "\n",
    "Using this information, engage with the user and answer their questions accurately and concisely.\n",
    "\"\"\""
   ]
  },
  {
   "cell_type": "code",
   "execution_count": 20,
   "id": "1741fe35",
   "metadata": {},
   "outputs": [
    {
     "name": "stdout",
     "output_type": "stream",
     "text": [
      "\n",
      "You are a helpful assistant. You will be given a text about a person named Paulino, and you will answer questions based on the provided information. \n",
      "If you don't know the answer, respond with \"I don't know.\"\n",
      "\n",
      "### Text:\n",
      "   \n",
      "Contact\n",
      "Paris - France\n",
      "+33766654028 (Mobile)\n",
      "paulinocristovao@yahoo.com.\n",
      "br\n",
      "www.linkedin.com/in/paulino-\n",
      "cristovao-aa685986 (LinkedIn)\n",
      "sciam.fr/en/ (Personal)\n",
      "Top Skills\n",
      "Network Engineering\n",
      "Python (Programming Language)\n",
      "Microsoft Azure Machine Learning\n",
      "Languages\n",
      "Portuguese (Native or Bilingual)\n",
      "Spanish (Professional Working)\n",
      "English (Native or Bilingual)\n",
      "French (Professional Working)\n",
      "Japanese (Limited Working)\n",
      "Paulino Cristovao\n",
      "Data Scientist | Machine Learning | AI Engineer | Data Engineer\n",
      "Courbevoie, Île-de-France, France\n",
      "Experience\n",
      "SCIAM\n",
      "Data Engineer\n",
      "June 2023 - Present (2 years)\n",
      "Paris, Île-de-France, France\n",
      "Technologies\n",
      "We identify, design, and implement innovative and robust technological\n",
      "solutions to solve our clients’ concrete problems.\n",
      "Behavioral science\n",
      "We analyze cognitive behaviors to understand the inner workings of individuals\n",
      "and organizations, and to optimize their decision-making processes, habits,\n",
      "and use of technology.\n",
      "Organizations\n",
      "In partnership with the world's first school of collective intelligence, we are\n",
      "inventing and testing new methods to effectively solve today's and tomorrow’s\n",
      "complex problems.\n",
      "University of Poitiers\n",
      "Postdoctoral Researcher\n",
      "April 2022 - June 2023 (1 year 3 months)\n",
      "France\n",
      "iSheriff\n",
      "Tech Support\n",
      "May 2014 - June 2023 (9 years 2 months)\n",
      "Technical Support\n",
      "Total Defense Inc.\n",
      "IT\n",
      "August 2013 - June 2023 (9 years 11 months)\n",
      "customers technical support\n",
      "Totaldefense\n",
      "  Page 1 of 2   \n",
      "TDI\n",
      "August 2012 - June 2023 (10 years 11 months)\n",
      "Technical support\n",
      "iYogi Inc.\n",
      "iyogi Technical service\n",
      "August 2012 - June 2023 (10 years 11 months)\n",
      "Technical Support\n",
      "Education\n",
      "University of Tsukuba\n",
      "Doctor of Philosophy - PhD, Computer Science · (2019 - 2022)\n",
      "University of Poitiers\n",
      "Posdoctoral, Machine Learniing · (April 2022 - April 2023)\n",
      "University of Tsukuba\n",
      "Master of Computer Science, Machine Learning · (2016 - 2019)\n",
      "University of Pune\n",
      "Bachelor of Science (BSc), Computer Science · (2009 - 2013)\n",
      "Mercury Solutions\n",
      "Diploma, IT security\n",
      "  Page 2 of 2\n",
      "\n",
      "### Summary:\n",
      "   \n",
      "Contact\n",
      "Paris - France\n",
      "+33766654028 (Mobile)\n",
      "paulinocristovao@yahoo.com.\n",
      "br\n",
      "www.linkedin.com/in/paulino-\n",
      "cristovao-aa685986 (LinkedIn)\n",
      "sciam.fr/en/ (Personal)\n",
      "Top Skills\n",
      "Network Engineering\n",
      "Python (Programming Language)\n",
      "Microsoft Azure Machine Learning\n",
      "Languages\n",
      "Portuguese (Native or Bilingual)\n",
      "Spanish (Professional Working)\n",
      "English (Native or Bilingual)\n",
      "French (Professional Working)\n",
      "Japanese (Limited Working)\n",
      "Paulino Cristovao\n",
      "Data Scientist | Machine Learning | AI Engineer | Data Engineer\n",
      "Courbevoie, Île-de-France, France\n",
      "Experience\n",
      "SCIAM\n",
      "Data Engineer\n",
      "June 2023 - Present (2 years)\n",
      "Paris, Île-de-France, France\n",
      "Technologies\n",
      "We identify, design, and implement innovative and robust technological\n",
      "solutions to solve our clients’ concrete problems.\n",
      "Behavioral science\n",
      "We analyze cognitive behaviors to understand the inner workings of individuals\n",
      "and organizations, and to optimize their decision-making processes, habits,\n",
      "and use of technology.\n",
      "Organizations\n",
      "In partnership with the world's first school of collective intelligence, we are\n",
      "inventing and testing new methods to effectively solve today's and tomorrow’s\n",
      "complex problems.\n",
      "University of Poitiers\n",
      "Postdoctoral Researcher\n",
      "April 2022 - June 2023 (1 year 3 months)\n",
      "France\n",
      "iSheriff\n",
      "Tech Support\n",
      "May 2014 - June 2023 (9 years 2 months)\n",
      "Technical Support\n",
      "Total Defense Inc.\n",
      "IT\n",
      "August 2013 - June 2023 (9 years 11 months)\n",
      "customers technical support\n",
      "Totaldefense\n",
      "  Page 1 of 2   \n",
      "TDI\n",
      "August 2012 - June 2023 (10 years 11 months)\n",
      "Technical support\n",
      "iYogi Inc.\n",
      "iyogi Technical service\n",
      "August 2012 - June 2023 (10 years 11 months)\n",
      "Technical Support\n",
      "Education\n",
      "University of Tsukuba\n",
      "Doctor of Philosophy - PhD, Computer Science · (2019 - 2022)\n",
      "University of Poitiers\n",
      "Posdoctoral, Machine Learniing · (April 2022 - April 2023)\n",
      "University of Tsukuba\n",
      "Master of Computer Science, Machine Learning · (2016 - 2019)\n",
      "University of Pune\n",
      "Bachelor of Science (BSc), Computer Science · (2009 - 2013)\n",
      "Mercury Solutions\n",
      "Diploma, IT security\n",
      "  Page 2 of 2\n",
      "\n",
      "Using this information, engage with the user and answer their questions accurately and concisely.\n",
      "\n"
     ]
    }
   ],
   "source": [
    "print(system_prompt)"
   ]
  },
  {
   "cell_type": "code",
   "execution_count": 38,
   "id": "2b836217",
   "metadata": {},
   "outputs": [],
   "source": [
    "def get_chat_response_with_chatgpt(user_message, chat_history):\n",
    "    \"\"\"\n",
    "    Send the full conversation (system prompt + prior messages + new user message)\n",
    "    to OpenAI’s chat endpoint and return the assistant’s reply.\n",
    "    \n",
    "    :param user_message: the latest message from the user\n",
    "    :param chat_history:  list of dicts, e.g.\n",
    "                          [{\"role\": \"user\", \"content\": \"...\"},\n",
    "                           {\"role\": \"assistant\", \"content\": \"...\"},\n",
    "                           …]\n",
    "    :returns: (reply_text, updated_history)\n",
    "    \"\"\"\n",
    "    # ensure history is a list\n",
    "    chat_history = chat_history or []\n",
    "\n",
    "    # build the message list\n",
    "    messages = [{\"role\": \"system\", \"content\": system_prompt}] + chat_history\n",
    "    messages.append({\"role\": \"user\", \"content\": user_message})\n",
    "\n",
    "    # call OpenAI\n",
    "    response = openai.chat.completions.create(\n",
    "        model=\"gpt-4\",\n",
    "        messages=messages,\n",
    "        temperature=0.7,\n",
    "        max_tokens=512,\n",
    "    )\n",
    "    assistant_reply = response.choices[0].message.content\n",
    "\n",
    "    # append the new turn to history and return\n",
    "    chat_history.append({\"role\": \"user\",      \"content\": user_message})\n",
    "    chat_history.append({\"role\": \"assistant\", \"content\": assistant_reply})\n",
    "    return assistant_reply"
   ]
  },
  {
   "cell_type": "code",
   "execution_count": 42,
   "id": "54f0e4ca",
   "metadata": {},
   "outputs": [],
   "source": [
    "def get_gemini_response(user_message, chat_history):\n",
    "    \"\"\"\n",
    "    Send the full conversation (system prompt + prior messages + new user message)\n",
    "    to Gemini’s chat API and return the assistant’s reply.\n",
    "    \n",
    "    :param user_message: the latest message from the user\n",
    "    :param chat_history:  list of dicts, e.g.\n",
    "                          [{\"role\": \"user\", \"content\": \"...\"},\n",
    "                           {\"role\": \"assistant\", \"content\": \"...\"},\n",
    "                           …]\n",
    "    :returns: (reply_text, updated_history)\n",
    "    \"\"\"\n",
    "    chat_history = chat_history or []\n",
    "\n",
    "    messages = [{\"role\": \"system\", \"content\": system_prompt}] + chat_history\n",
    "    messages.append({\"role\": \"user\", \"content\": user_message})\n",
    "\n",
    "    client = OpenAI(\n",
    "        api_key=gemini_api_key,\n",
    "        base_url=\"https://generativelanguage.googleapis.com/v1beta/openai/\"\n",
    "    )\n",
    "    response = client.chat.completions.create(\n",
    "        model=\"gemini-2.0-flash\",\n",
    "        messages=messages,\n",
    "    )\n",
    "    assistant_reply = response.choices[0].message.content\n",
    "\n",
    "    # update history with both sides of the exchange\n",
    "    chat_history.append({\"role\": \"user\",      \"content\": user_message})\n",
    "    chat_history.append({\"role\": \"assistant\", \"content\": assistant_reply})\n",
    "    return assistant_reply"
   ]
  },
  {
   "cell_type": "code",
   "execution_count": 39,
   "id": "cde65f56",
   "metadata": {},
   "outputs": [
    {
     "name": "stdout",
     "output_type": "stream",
     "text": [
      "* Running on local URL:  http://127.0.0.1:7864\n",
      "\n",
      "To create a public link, set `share=True` in `launch()`.\n"
     ]
    },
    {
     "data": {
      "text/html": [
       "<div><iframe src=\"http://127.0.0.1:7864/\" width=\"100%\" height=\"500\" allow=\"autoplay; camera; microphone; clipboard-read; clipboard-write;\" frameborder=\"0\" allowfullscreen></iframe></div>"
      ],
      "text/plain": [
       "<IPython.core.display.HTML object>"
      ]
     },
     "metadata": {},
     "output_type": "display_data"
    },
    {
     "data": {
      "text/plain": []
     },
     "execution_count": 39,
     "metadata": {},
     "output_type": "execute_result"
    }
   ],
   "source": [
    "gr.ChatInterface(get_chat_response_with_chatgpt, type=\"messages\", title=\"Chat with Gemini\", description=\"Ask questions about the LinkedIn profile.\").launch()"
   ]
  },
  {
   "cell_type": "code",
   "execution_count": 43,
   "id": "e3e01e72",
   "metadata": {},
   "outputs": [
    {
     "name": "stdout",
     "output_type": "stream",
     "text": [
      "* Running on local URL:  http://127.0.0.1:7866\n",
      "\n",
      "To create a public link, set `share=True` in `launch()`.\n"
     ]
    },
    {
     "data": {
      "text/html": [
       "<div><iframe src=\"http://127.0.0.1:7866/\" width=\"100%\" height=\"500\" allow=\"autoplay; camera; microphone; clipboard-read; clipboard-write;\" frameborder=\"0\" allowfullscreen></iframe></div>"
      ],
      "text/plain": [
       "<IPython.core.display.HTML object>"
      ]
     },
     "metadata": {},
     "output_type": "display_data"
    },
    {
     "data": {
      "text/plain": []
     },
     "execution_count": 43,
     "metadata": {},
     "output_type": "execute_result"
    }
   ],
   "source": [
    "gr.ChatInterface(get_gemini_response, type=\"messages\", title=\"Chat with Gemini\", description=\"Ask questions about the LinkedIn profile.\").launch()"
   ]
  },
  {
   "cell_type": "code",
   "execution_count": null,
   "id": "931a6764",
   "metadata": {},
   "outputs": [],
   "source": []
  },
  {
   "cell_type": "code",
   "execution_count": null,
   "id": "8761d3ac",
   "metadata": {},
   "outputs": [],
   "source": []
  }
 ],
 "metadata": {
  "kernelspec": {
   "display_name": "py-learn-py310",
   "language": "python",
   "name": "python3"
  },
  "language_info": {
   "codemirror_mode": {
    "name": "ipython",
    "version": 3
   },
   "file_extension": ".py",
   "mimetype": "text/x-python",
   "name": "python",
   "nbconvert_exporter": "python",
   "pygments_lexer": "ipython3",
   "version": "3.10.16"
  }
 },
 "nbformat": 4,
 "nbformat_minor": 5
}
