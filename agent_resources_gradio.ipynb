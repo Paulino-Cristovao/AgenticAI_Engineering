{
 "cells": [
  {
   "cell_type": "code",
   "execution_count": 5,
   "id": "7e1aec6a",
   "metadata": {},
   "outputs": [],
   "source": [
    "from dotenv import load_dotenv\n",
    "from openai import OpenAI\n",
    "import openai\n",
    "import os\n",
    "import sys\n",
    "from pypdf import PdfReader\n",
    "import gradio as gr"
   ]
  },
  {
   "cell_type": "code",
   "execution_count": 6,
   "id": "dab0ca7f",
   "metadata": {},
   "outputs": [],
   "source": [
    "load_dotenv(override=True)\n",
    "openai_api_key = os.getenv(\"OPENAI_API_KEY\")\n",
    "gemini_api_key = os.getenv(\"GEMINI_API_KEY\")\n",
    "\n",
    "# Ensure the API keys are loaded correctly\n",
    "if openai_api_key is None:\n",
    "    raise ValueError(\"OPENAI_API_KEY environment variable not set. Please set it in your .env file.\")\n",
    "else:\n",
    "    openai.api_key = openai_api_key\n",
    "\n",
    "if gemini_api_key is None:\n",
    "    raise ValueError(\"GEMINI_API_KEY environment variable not set. Please set it in your .env file.\")\n",
    "else:\n",
    "    # Return both API keys\n",
    "    (openai_api_key, gemini_api_key)\n"
   ]
  },
  {
   "cell_type": "code",
   "execution_count": 7,
   "id": "eabed0e5",
   "metadata": {},
   "outputs": [],
   "source": [
    "opneai = OpenAI()"
   ]
  },
  {
   "cell_type": "code",
   "execution_count": 9,
   "id": "64ee2254",
   "metadata": {},
   "outputs": [],
   "source": [
    "def read_pdf(file):\n",
    "    text = \"\"\n",
    "    with open(file, \"rb\") as f:\n",
    "        reader = PdfReader(f)\n",
    "        for page in reader.pages:\n",
    "            text += page.extract_text()\n",
    "    return text\n"
   ]
  },
  {
   "cell_type": "code",
   "execution_count": 11,
   "id": "cf02baed",
   "metadata": {},
   "outputs": [
    {
     "name": "stdout",
     "output_type": "stream",
     "text": [
      "Reading PDF...\n"
     ]
    },
    {
     "data": {
      "text/markdown": [
       "E-Shop Return and Purchase Policy\n",
       "1. Introduction\n",
       "Thank you for shopping with E-Shop. We strive to ensure that our customers have a smooth and satisfying\n",
       "shopping experience. This document outlines our return, exchange, and refund policies, and provides\n",
       "guidance on how to handle various scenarios regarding product issues.\n",
       "Page 1E-Shop Return and Purchase Policy\n",
       "2. Return Eligibility\n",
       "Products are eligible for return within 30 days from the date of delivery. To be eligible, the item must be\n",
       "unused, in the original packaging, and in the same condition that you received it. Certain types of goods are\n",
       "exempt from being returned, such as perishable goods, gift cards, downloadable software products, and\n",
       "personal care items.\n",
       "Page 2E-Shop Return and Purchase Policy\n",
       "3. Exchange Policy\n",
       "We only replace items if they are defective or damaged. If you need to exchange an item for the same one,\n",
       "please contact us at support@eshop.com and send your item to the provided return address. Include proof of\n",
       "purchase and a detailed explanation of the issue.\n",
       "Page 3E-Shop Return and Purchase Policy\n",
       "4. Refund Process\n",
       "Once your return is received and inspected, we will send you an email notification of the approval or rejection\n",
       "of your refund. If approved, your refund will be processed and a credit will automatically be applied to your\n",
       "original method of payment, within a certain number of days.\n",
       "Page 4E-Shop Return and Purchase Policy\n",
       "5. Shipping and Handling\n",
       "You will be responsible for paying for your own shipping costs for returning your item. Shipping costs are\n",
       "non-refundable. If you receive a refund, the cost of return shipping will be deducted from your refund.\n",
       "Depending on where you live, the time it may take for your exchanged product to reach you may vary.\n",
       "Page 5E-Shop Return and Purchase Policy\n",
       "6. Late or Missing Refunds\n",
       "If you havent received a refund yet, first check your bank account again. Then contact your credit card\n",
       "company or bank. If youve done all of this and you still have not received your refund yet, please contact us\n",
       "at finance@eshop.com.\n",
       "Page 6E-Shop Return and Purchase Policy\n",
       "7. Order Cancellation\n",
       "Orders can be canceled within 2 hours of placing them. Once the order has been processed or shipped, we\n",
       "can no longer cancel it. In such cases, please follow our return procedures.\n",
       "Page 7E-Shop Return and Purchase Policy\n",
       "8. Discrepancies and Technical Support\n",
       "If any information in this policy does not match your order or if you require technical support, please reach out\n",
       "to our tech support team at techsupport@eshop.com. We are available Monday to Friday, from 9 AM to 5 PM\n",
       "(CET).\n",
       "Page 8E-Shop Return and Purchase Policy\n",
       "9. Contact Information\n",
       "For more information about our policies, or if you have questions or complaints, please contact us by e-mail\n",
       "at support@eshop.com or by mail using the address provided in your invoice.\n",
       "Page 9E-Shop Return and Purchase Policy\n",
       "10. Amendments\n",
       "We reserve the right to update or change our return policy at any time. Changes will take effect immediately\n",
       "upon posting on the website. It is your responsibility to check this policy periodically for changes.\n",
       "Page 10"
      ],
      "text/plain": [
       "<IPython.core.display.Markdown object>"
      ]
     },
     "metadata": {},
     "output_type": "display_data"
    }
   ],
   "source": [
    "from IPython.display import Markdown, display\n",
    "\n",
    "print(\"Reading PDF...\")\n",
    "policy_document = read_pdf(\"policy_document.pdf\")\n",
    "display(Markdown(policy_document))"
   ]
  },
  {
   "cell_type": "code",
   "execution_count": 12,
   "id": "44776668",
   "metadata": {},
   "outputs": [],
   "source": [
    "system_prompt = f\"\"\"\n",
    "You are an AI assistant for an e-commerce company. You are provided with company policy documents, such as return policies, shipping rules, and general FAQs.\n",
    "\n",
    "### Provided Company Policy Document:\n",
    "{policy_document}\n",
    "\n",
    "Your job is to help customers by answering their questions based only on the content of the document above.\n",
    "\n",
    "- Be clear, concise, and professional.\n",
    "- If the answer is not explicitly covered in the document, say: \n",
    "  \"I'm not sure about that based on the available information. Please contact our support team at support@example.com.\"\n",
    "- Do not make up answers or assumptions.\n",
    "- If the user asks a question not related to the document (e.g., asking for the CEO’s name), respond with:\n",
    "  \"I'm here to help with policy-related questions. Please contact support for other inquiries.\"\n",
    "\n",
    "Always try to make the user feel helped and guided toward a resolution.\n",
    "\"\"\""
   ]
  },
  {
   "cell_type": "code",
   "execution_count": 13,
   "id": "1741fe35",
   "metadata": {},
   "outputs": [
    {
     "name": "stdout",
     "output_type": "stream",
     "text": [
      "\n",
      "You are an AI assistant for an e-commerce company. You are provided with company policy documents, such as return policies, shipping rules, and general FAQs.\n",
      "\n",
      "### Provided Company Policy Document:\n",
      "E-Shop Return and Purchase Policy\n",
      "1. Introduction\n",
      "Thank you for shopping with E-Shop. We strive to ensure that our customers have a smooth and satisfying\n",
      "shopping experience. This document outlines our return, exchange, and refund policies, and provides\n",
      "guidance on how to handle various scenarios regarding product issues.\n",
      "Page 1E-Shop Return and Purchase Policy\n",
      "2. Return Eligibility\n",
      "Products are eligible for return within 30 days from the date of delivery. To be eligible, the item must be\n",
      "unused, in the original packaging, and in the same condition that you received it. Certain types of goods are\n",
      "exempt from being returned, such as perishable goods, gift cards, downloadable software products, and\n",
      "personal care items.\n",
      "Page 2E-Shop Return and Purchase Policy\n",
      "3. Exchange Policy\n",
      "We only replace items if they are defective or damaged. If you need to exchange an item for the same one,\n",
      "please contact us at support@eshop.com and send your item to the provided return address. Include proof of\n",
      "purchase and a detailed explanation of the issue.\n",
      "Page 3E-Shop Return and Purchase Policy\n",
      "4. Refund Process\n",
      "Once your return is received and inspected, we will send you an email notification of the approval or rejection\n",
      "of your refund. If approved, your refund will be processed and a credit will automatically be applied to your\n",
      "original method of payment, within a certain number of days.\n",
      "Page 4E-Shop Return and Purchase Policy\n",
      "5. Shipping and Handling\n",
      "You will be responsible for paying for your own shipping costs for returning your item. Shipping costs are\n",
      "non-refundable. If you receive a refund, the cost of return shipping will be deducted from your refund.\n",
      "Depending on where you live, the time it may take for your exchanged product to reach you may vary.\n",
      "Page 5E-Shop Return and Purchase Policy\n",
      "6. Late or Missing Refunds\n",
      "If you havent received a refund yet, first check your bank account again. Then contact your credit card\n",
      "company or bank. If youve done all of this and you still have not received your refund yet, please contact us\n",
      "at finance@eshop.com.\n",
      "Page 6E-Shop Return and Purchase Policy\n",
      "7. Order Cancellation\n",
      "Orders can be canceled within 2 hours of placing them. Once the order has been processed or shipped, we\n",
      "can no longer cancel it. In such cases, please follow our return procedures.\n",
      "Page 7E-Shop Return and Purchase Policy\n",
      "8. Discrepancies and Technical Support\n",
      "If any information in this policy does not match your order or if you require technical support, please reach out\n",
      "to our tech support team at techsupport@eshop.com. We are available Monday to Friday, from 9 AM to 5 PM\n",
      "(CET).\n",
      "Page 8E-Shop Return and Purchase Policy\n",
      "9. Contact Information\n",
      "For more information about our policies, or if you have questions or complaints, please contact us by e-mail\n",
      "at support@eshop.com or by mail using the address provided in your invoice.\n",
      "Page 9E-Shop Return and Purchase Policy\n",
      "10. Amendments\n",
      "We reserve the right to update or change our return policy at any time. Changes will take effect immediately\n",
      "upon posting on the website. It is your responsibility to check this policy periodically for changes.\n",
      "Page 10\n",
      "\n",
      "Your job is to help customers by answering their questions based only on the content of the document above.\n",
      "\n",
      "- Be clear, concise, and professional.\n",
      "- If the answer is not explicitly covered in the document, say: \n",
      "  \"I'm not sure about that based on the available information. Please contact our support team at support@example.com.\"\n",
      "- Do not make up answers or assumptions.\n",
      "- If the user asks a question not related to the document (e.g., asking for the CEO’s name), respond with:\n",
      "  \"I'm here to help with policy-related questions. Please contact support for other inquiries.\"\n",
      "\n",
      "Always try to make the user feel helped and guided toward a resolution.\n",
      "\n"
     ]
    }
   ],
   "source": [
    "print(system_prompt)"
   ]
  },
  {
   "cell_type": "code",
   "execution_count": 14,
   "id": "2b836217",
   "metadata": {},
   "outputs": [],
   "source": [
    "def get_chat_response_with_chatgpt(user_message, chat_history):\n",
    "    \"\"\"\n",
    "    Send the full conversation (system prompt + prior messages + new user message)\n",
    "    to OpenAI’s chat endpoint and return the assistant’s reply.\n",
    "    \n",
    "    :param user_message: the latest message from the user\n",
    "    :param chat_history:  list of dicts, e.g.\n",
    "                          [{\"role\": \"user\", \"content\": \"...\"},\n",
    "                           {\"role\": \"assistant\", \"content\": \"...\"},\n",
    "                           …]\n",
    "    :returns: (reply_text, updated_history)\n",
    "    \"\"\"\n",
    "    # ensure history is a list\n",
    "    chat_history = chat_history or []\n",
    "\n",
    "    # build the message list\n",
    "    messages = [{\"role\": \"system\", \"content\": system_prompt}] + chat_history\n",
    "    messages.append({\"role\": \"user\", \"content\": user_message})\n",
    "\n",
    "    # call OpenAI\n",
    "    response = openai.chat.completions.create(\n",
    "        model=\"gpt-4\",\n",
    "        messages=messages,\n",
    "        temperature=0.7,\n",
    "        max_tokens=512,\n",
    "    )\n",
    "    assistant_reply = response.choices[0].message.content\n",
    "\n",
    "    # append the new turn to history and return\n",
    "    chat_history.append({\"role\": \"user\",      \"content\": user_message})\n",
    "    chat_history.append({\"role\": \"assistant\", \"content\": assistant_reply})\n",
    "    return assistant_reply"
   ]
  },
  {
   "cell_type": "code",
   "execution_count": 15,
   "id": "54f0e4ca",
   "metadata": {},
   "outputs": [],
   "source": [
    "def get_gemini_response(user_message, chat_history):\n",
    "    \"\"\"\n",
    "    Send the full conversation (system prompt + prior messages + new user message)\n",
    "    to Gemini’s chat API and return the assistant’s reply.\n",
    "    \n",
    "    :param user_message: the latest message from the user\n",
    "    :param chat_history:  list of dicts, e.g.\n",
    "                          [{\"role\": \"user\", \"content\": \"...\"},\n",
    "                           {\"role\": \"assistant\", \"content\": \"...\"},\n",
    "                           …]\n",
    "    :returns: (reply_text, updated_history)\n",
    "    \"\"\"\n",
    "    chat_history = chat_history or []\n",
    "\n",
    "    messages = [{\"role\": \"system\", \"content\": system_prompt}] + chat_history\n",
    "    messages.append({\"role\": \"user\", \"content\": user_message})\n",
    "\n",
    "    client = OpenAI(\n",
    "        api_key=gemini_api_key,\n",
    "        base_url=\"https://generativelanguage.googleapis.com/v1beta/openai/\"\n",
    "    )\n",
    "    response = client.chat.completions.create(\n",
    "        model=\"gemini-2.0-flash\",\n",
    "        messages=messages,\n",
    "    )\n",
    "    assistant_reply = response.choices[0].message.content\n",
    "\n",
    "    # update history with both sides of the exchange\n",
    "    chat_history.append({\"role\": \"user\",      \"content\": user_message})\n",
    "    chat_history.append({\"role\": \"assistant\", \"content\": assistant_reply})\n",
    "    return assistant_reply"
   ]
  },
  {
   "cell_type": "code",
   "execution_count": 18,
   "id": "cde65f56",
   "metadata": {},
   "outputs": [
    {
     "name": "stdout",
     "output_type": "stream",
     "text": [
      "* Running on local URL:  http://127.0.0.1:7862\n",
      "\n",
      "To create a public link, set `share=True` in `launch()`.\n"
     ]
    },
    {
     "data": {
      "text/html": [
       "<div><iframe src=\"http://127.0.0.1:7862/\" width=\"100%\" height=\"500\" allow=\"autoplay; camera; microphone; clipboard-read; clipboard-write;\" frameborder=\"0\" allowfullscreen></iframe></div>"
      ],
      "text/plain": [
       "<IPython.core.display.HTML object>"
      ]
     },
     "metadata": {},
     "output_type": "display_data"
    },
    {
     "data": {
      "text/plain": []
     },
     "execution_count": 18,
     "metadata": {},
     "output_type": "execute_result"
    }
   ],
   "source": [
    "gr.ChatInterface(get_chat_response_with_chatgpt, type=\"messages\", title=\"Chat with Gemini\", description=\"Ask questions about the LinkedIn profile.\").launch()"
   ]
  },
  {
   "cell_type": "code",
   "execution_count": 17,
   "id": "e3e01e72",
   "metadata": {},
   "outputs": [
    {
     "name": "stdout",
     "output_type": "stream",
     "text": [
      "* Running on local URL:  http://127.0.0.1:7861\n",
      "\n",
      "To create a public link, set `share=True` in `launch()`.\n"
     ]
    },
    {
     "data": {
      "text/html": [
       "<div><iframe src=\"http://127.0.0.1:7861/\" width=\"100%\" height=\"500\" allow=\"autoplay; camera; microphone; clipboard-read; clipboard-write;\" frameborder=\"0\" allowfullscreen></iframe></div>"
      ],
      "text/plain": [
       "<IPython.core.display.HTML object>"
      ]
     },
     "metadata": {},
     "output_type": "display_data"
    },
    {
     "data": {
      "text/plain": []
     },
     "execution_count": 17,
     "metadata": {},
     "output_type": "execute_result"
    }
   ],
   "source": [
    "gr.ChatInterface(get_gemini_response, type=\"messages\", title=\"Chat with Gemini\", description=\"Ask questions about the LinkedIn profile.\").launch()"
   ]
  },
  {
   "cell_type": "code",
   "execution_count": null,
   "id": "931a6764",
   "metadata": {},
   "outputs": [],
   "source": [
    "# sample questions\n",
    "#I have received a skincare product as a gift last month, but I only opened it today and discovered it caused an allergic reaction. I don’t have the receipt, and the item was on a ‘final sale’ promotion. Can I still return it or exchange it?"
   ]
  },
  {
   "cell_type": "code",
   "execution_count": null,
   "id": "8761d3ac",
   "metadata": {},
   "outputs": [],
   "source": [
    "#My order status says ‘Held at customs due to battery declaration.’ This isn’t covered in the return policy. Who should I contact?"
   ]
  }
 ],
 "metadata": {
  "kernelspec": {
   "display_name": "py-learn-py310",
   "language": "python",
   "name": "python3"
  },
  "language_info": {
   "codemirror_mode": {
    "name": "ipython",
    "version": 3
   },
   "file_extension": ".py",
   "mimetype": "text/x-python",
   "name": "python",
   "nbconvert_exporter": "python",
   "pygments_lexer": "ipython3",
   "version": "3.10.16"
  }
 },
 "nbformat": 4,
 "nbformat_minor": 5
}
