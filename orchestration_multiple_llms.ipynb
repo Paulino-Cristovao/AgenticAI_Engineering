{
 "cells": [
  {
   "cell_type": "markdown",
   "id": "e2744ad8",
   "metadata": {},
   "source": [
    "# Orchestration Multiple LLMs"
   ]
  },
  {
   "cell_type": "markdown",
   "id": "6130a80d",
   "metadata": {},
   "source": []
  },
  {
   "cell_type": "code",
   "execution_count": 19,
   "id": "3643f2fc",
   "metadata": {},
   "outputs": [],
   "source": [
    "# Import Required Libraries\n",
    "import os\n",
    "from dotenv import load_dotenv "
   ]
  },
  {
   "cell_type": "code",
   "execution_count": 20,
   "id": "527065e3",
   "metadata": {},
   "outputs": [
    {
     "data": {
      "text/plain": [
       "True"
      ]
     },
     "execution_count": 20,
     "metadata": {},
     "output_type": "execute_result"
    }
   ],
   "source": [
    "load_dotenv(override=True)"
   ]
  },
  {
   "cell_type": "code",
   "execution_count": 21,
   "id": "190b0b98",
   "metadata": {},
   "outputs": [],
   "source": [
    "import openai\n",
    "\n",
    "openai_api_key = os.getenv(\"OPENAI_API_KEY\")\n",
    "gemini_api_key = os.getenv(\"GEMINI_API_KEY\")\n",
    "\n",
    "# Ensure the API keys are loaded correctly\n",
    "if openai_api_key is None:\n",
    "    raise ValueError(\"OPENAI_API_KEY environment variable not set. Please set it in your .env file.\")\n",
    "else:\n",
    "    openai.api_key = openai_api_key\n",
    "\n",
    "if gemini_api_key is None:\n",
    "    raise ValueError(\"GEMINI_API_KEY environment variable not set. Please set it in your .env file.\")\n",
    "else:\n",
    "    # Return both API keys\n",
    "    (openai_api_key, gemini_api_key)"
   ]
  },
  {
   "cell_type": "code",
   "execution_count": 22,
   "id": "f1aec038",
   "metadata": {},
   "outputs": [],
   "source": [
    "message = [{\"role\": \"system\", \"content\": \"You are a helpful assistant.\"}]\n",
    "# Function to get a response from the OpenAI API\n",
    "def get_response(prompt):\n",
    "    message.append({\"role\": \"user\", \"content\": prompt})\n",
    "    response = openai.chat.completions.create(\n",
    "        model=\"gpt-4\",\n",
    "        messages=message,\n",
    "        temperature=0.7,\n",
    "        max_tokens=150\n",
    "    )\n",
    "    message.append(response.choices[0].message)\n",
    "    return response.choices[0].message.content"
   ]
  },
  {
   "cell_type": "code",
   "execution_count": 23,
   "id": "ae3165f0",
   "metadata": {},
   "outputs": [
    {
     "name": "stdout",
     "output_type": "stream",
     "text": [
      "Question: What is the capital of France?\n"
     ]
    }
   ],
   "source": [
    "question = \"What is the capital of France?\"\n",
    "response = get_response(question)\n",
    "print(f\"Question: {question}\")"
   ]
  },
  {
   "cell_type": "code",
   "execution_count": null,
   "id": "53260709",
   "metadata": {},
   "outputs": [],
   "source": [
    "competitors = []\n",
    "answer = [] \n",
    "def prepare_messages(question):\n",
    "    return [{\"role\": \"system\", \"content\": \"You are a helpful assistant.\"}, {\"role\": \"user\", \"content\": question}]\n"
   ]
  },
  {
   "cell_type": "code",
   "execution_count": 25,
   "id": "dbc7ebe3",
   "metadata": {},
   "outputs": [],
   "source": [
    "def get_competitor_response(model_name, messages):\n",
    "    response = openai.chat.completions.create(\n",
    "        model=model_name,\n",
    "        messages=messages,\n",
    "        temperature=0.7,\n",
    "        max_tokens=150\n",
    "    )\n",
    "    competitors.append(response.choices[0].message.content)\n",
    "    answer.append(response.choices[0].message.content)\n",
    "    print(f\"Competitor Response: {competitors[-1]}\")\n",
    "\n"
   ]
  },
  {
   "cell_type": "code",
   "execution_count": 26,
   "id": "20973e58",
   "metadata": {},
   "outputs": [
    {
     "name": "stdout",
     "output_type": "stream",
     "text": [
      "Competitor Response: The capital of France is Paris.\n"
     ]
    }
   ],
   "source": [
    "model_name = \"gpt-4\" \n",
    "# Call the function\n",
    "messages = prepare_messages(question)\n",
    "# Get the competitor's response\n",
    "get_competitor_response(model_name, messages)"
   ]
  },
  {
   "cell_type": "code",
   "execution_count": 27,
   "id": "5c64c8fc",
   "metadata": {},
   "outputs": [],
   "source": [
    "from openai import OpenAI\n",
    "\n",
    "def get_competitor_response_gemini(model_name, messages):\n",
    "    # Initialize the Gemini API client\n",
    "    client = OpenAI(\n",
    "        api_key=gemini_api_key,\n",
    "        base_url=\"https://generativelanguage.googleapis.com/v1beta/openai/\"\n",
    "    )\n",
    "    \n",
    "    # Get the response from the Gemini API\n",
    "    response = client.chat.completions.create(\n",
    "        model=model_name,\n",
    "        messages=messages\n",
    "    )\n",
    "    \n",
    "    # Extract and store the response content\n",
    "    competitors.append(response.choices[0].message.content)\n",
    "    answer.append(response.choices[0].message.content)\n",
    "    print(f\"Competitor Response (Gemini): {competitors[-1]}\")"
   ]
  },
  {
   "cell_type": "code",
   "execution_count": 28,
   "id": "8dc357d9",
   "metadata": {},
   "outputs": [
    {
     "name": "stdout",
     "output_type": "stream",
     "text": [
      "Competitor Response (Gemini): The capital of France is **Paris**.\n",
      "\n"
     ]
    }
   ],
   "source": [
    "model_name = \"gemini-2.0-flash\" \n",
    "# Call the function\n",
    "messages = prepare_messages(question)\n",
    "# Get the competitor's response\n",
    "get_competitor_response_gemini(model_name, messages)\n"
   ]
  },
  {
   "cell_type": "code",
   "execution_count": 29,
   "id": "a6e51253",
   "metadata": {},
   "outputs": [],
   "source": [
    "def interactive_conversation(model1_name, model2_name, initial_message, num_turns=5):\n",
    "    # Prepare the initial message\n",
    "    messages_model1 = prepare_messages(initial_message)\n",
    "    messages_model2 = prepare_messages(initial_message)\n",
    "    \n",
    "    print(f\"Initial Message: {initial_message}\")\n",
    "    \n",
    "    for turn in range(num_turns):\n",
    "        # Get response from model 1\n",
    "        print(f\"\\nTurn {turn + 1}:\")\n",
    "        print(f\"Model 1 ({model1_name}) responding...\")\n",
    "        get_competitor_response(model1_name, messages_model1)\n",
    "        model1_response = competitors[-1]\n",
    "        print(f\"Model 1 Response: {model1_response}\")\n",
    "        \n",
    "        # Add model 1's response to model 2's messages\n",
    "        messages_model2.append({\"role\": \"user\", \"content\": model1_response})\n",
    "        \n",
    "        # Get response from model 2\n",
    "        print(f\"Model 2 ({model2_name}) responding...\")\n",
    "        get_competitor_response_gemini(model2_name, messages_model2)\n",
    "        model2_response = competitors[-1]\n",
    "        print(f\"Model 2 Response: {model2_response}\")\n",
    "        \n",
    "        # Add model 2's response to model 1's messages\n",
    "        messages_model1.append({\"role\": \"user\", \"content\": model2_response})"
   ]
  },
  {
   "cell_type": "code",
   "execution_count": 30,
   "id": "60ec010b",
   "metadata": {},
   "outputs": [
    {
     "name": "stdout",
     "output_type": "stream",
     "text": [
      "Answer List:\n",
      "['The capital of France is Paris.', 'The capital of France is **Paris**.\\n']\n"
     ]
    },
    {
     "data": {
      "text/markdown": [
       "### Answer List"
      ],
      "text/plain": [
       "<IPython.core.display.Markdown object>"
      ]
     },
     "metadata": {},
     "output_type": "display_data"
    },
    {
     "data": {
      "text/markdown": [
       "**1.** The capital of France is Paris."
      ],
      "text/plain": [
       "<IPython.core.display.Markdown object>"
      ]
     },
     "metadata": {},
     "output_type": "display_data"
    },
    {
     "data": {
      "text/markdown": [
       "**2.** The capital of France is **Paris**.\n"
      ],
      "text/plain": [
       "<IPython.core.display.Markdown object>"
      ]
     },
     "metadata": {},
     "output_type": "display_data"
    },
    {
     "data": {
      "text/markdown": [
       "### Competitors List"
      ],
      "text/plain": [
       "<IPython.core.display.Markdown object>"
      ]
     },
     "metadata": {},
     "output_type": "display_data"
    },
    {
     "data": {
      "text/markdown": [
       "**1.** The capital of France is Paris."
      ],
      "text/plain": [
       "<IPython.core.display.Markdown object>"
      ]
     },
     "metadata": {},
     "output_type": "display_data"
    },
    {
     "data": {
      "text/markdown": [
       "**2.** The capital of France is **Paris**.\n"
      ],
      "text/plain": [
       "<IPython.core.display.Markdown object>"
      ]
     },
     "metadata": {},
     "output_type": "display_data"
    },
    {
     "name": "stdout",
     "output_type": "stream",
     "text": [
      "\n",
      "Competitors List:\n",
      "['The capital of France is Paris.', 'The capital of France is **Paris**.\\n']\n",
      "Initial Message: What are the benefits of using AI Agents?\n",
      "\n",
      "Turn 1:\n",
      "Model 1 (gpt-4) responding...\n",
      "Competitor Response: 1. Efficiency and Productivity: AI agents can perform tasks faster and more accurately than humans, freeing up human workers to focus on more complex tasks. They can work 24/7 without breaks, improving productivity.\n",
      "\n",
      "2. Handling Large Volumes of Data: AI agents can process and analyze large amounts of data, which would be impossible for a human to do in a reasonable amount of time. This can lead to better decision-making based on data.\n",
      "\n",
      "3. Cost Saving: They can replace or reduce the need for human labor in certain tasks, leading to significant cost savings. \n",
      "\n",
      "4. Improved Customer Service: AI agents can be used in customer service to respond to customer inquiries quickly and accurately. They can handle multiple inquiries at once, reducing wait times\n",
      "Model 1 Response: 1. Efficiency and Productivity: AI agents can perform tasks faster and more accurately than humans, freeing up human workers to focus on more complex tasks. They can work 24/7 without breaks, improving productivity.\n",
      "\n",
      "2. Handling Large Volumes of Data: AI agents can process and analyze large amounts of data, which would be impossible for a human to do in a reasonable amount of time. This can lead to better decision-making based on data.\n",
      "\n",
      "3. Cost Saving: They can replace or reduce the need for human labor in certain tasks, leading to significant cost savings. \n",
      "\n",
      "4. Improved Customer Service: AI agents can be used in customer service to respond to customer inquiries quickly and accurately. They can handle multiple inquiries at once, reducing wait times\n",
      "Model 2 (gemini-2.0-flash) responding...\n",
      "Competitor Response (Gemini): That's a great start! You've captured the core benefits well. Here's a more comprehensive breakdown, expanding on your points and adding some nuances:\n",
      "\n",
      "**Core Benefits of Using AI Agents:**\n",
      "\n",
      "*   **Increased Efficiency & Productivity:**\n",
      "    *   **Automation of Repetitive Tasks:** AI Agents excel at automating repetitive, rule-based tasks, eliminating human error and freeing up human employees for more strategic and creative work.  Examples include data entry, invoice processing, report generation, and routine customer service inquiries.\n",
      "    *   **24/7 Availability:** AI Agents don't need sleep or breaks, providing continuous operation and service delivery, regardless of time zones or work hours. This can lead to faster turnaround times and improved service levels.\n",
      "    *   **Faster Processing Speed:**  AI agents can process information and make decisions much faster than humans, leading to quicker execution of tasks and faster response times.\n",
      "    *   **Scalability:** AI agents can easily scale up or down to meet changing demands, without the need for additional hiring and training.\n",
      "\n",
      "*   **Enhanced Decision-Making:**\n",
      "    *   **Data Analysis and Insights:** AI agents can analyze vast datasets to identify patterns, trends, and insights that humans might miss. This enables data-driven decision-making in areas like marketing, product development, and risk management.\n",
      "    *   **Predictive Analytics:** AI agents can use machine learning algorithms to predict future outcomes based on historical data, allowing organizations to anticipate problems and opportunities.\n",
      "    *   **Objectivity and Consistency:** AI Agents make decisions based on predefined rules and algorithms, eliminating human biases and ensuring consistent results.\n",
      "\n",
      "*   **Improved Customer Experience:**\n",
      "    *   **Personalized Interactions:** AI agents can personalize interactions with customers based on their individual preferences and past behavior, leading to more engaging and satisfying experiences.  Examples include personalized product recommendations, targeted marketing campaigns, and customized customer service responses.\n",
      "    *   **Instant Support and Availability:** AI-powered chatbots can provide instant support to customers 24/7, answering common questions and resolving simple issues.\n",
      "    *   **Consistent Service Quality:** AI agents provide consistent service quality, regardless of the customer's mood or the time of day.\n",
      "\n",
      "*   **Cost Reduction:**\n",
      "    *   **Reduced Labor Costs:** By automating tasks and improving efficiency, AI agents can reduce the need for human labor, leading to significant cost savings.\n",
      "    *   **Lower Operational Costs:** AI agents can optimize resource allocation, reduce waste, and improve efficiency, leading to lower operational costs.\n",
      "    *   **Reduced Errors and Rework:** By minimizing human error, AI agents can reduce the need for rework and corrections, saving time and money.\n",
      "\n",
      "*   **Improved Accuracy and Reliability:**\n",
      "    *   **Reduced Human Error:** AI agents are less prone to human error, leading to more accurate and reliable results.\n",
      "    *   **Consistent Performance:** AI agents perform consistently, regardless of fatigue or external factors.\n",
      "\n",
      "*   **Innovation and New Opportunities:**\n",
      "    *   **Identifying New Markets and Trends:** By analyzing data and identifying patterns, AI agents can help organizations discover new markets and trends.\n",
      "    *   **Developing New Products and Services:** AI agents can be used to develop new products and services that meet the evolving needs of customers.\n",
      "    *   **Automated Research and Development:** AI Agents can automate aspects of research and development, accelerating the innovation process.\n",
      "\n",
      "**Examples of AI Agent Applications:**\n",
      "\n",
      "*   **Customer Service:** Chatbots, virtual assistants\n",
      "*   **Marketing:** Personalized advertising, content creation, lead generation\n",
      "*   **Sales:** Sales automation, lead scoring, opportunity management\n",
      "*   **Finance:** Fraud detection, risk management, algorithmic trading\n",
      "*   **Healthcare:** Diagnosis, treatment planning, drug discovery\n",
      "*   **Manufacturing:** Process optimization, quality control, predictive maintenance\n",
      "*   **Logistics:** Route optimization, supply chain management, warehouse automation\n",
      "\n",
      "**Important Considerations:**\n",
      "\n",
      "*   **Ethical Implications:**  It's crucial to consider the ethical implications of AI agents, such as bias, privacy, and job displacement.  Transparency and fairness are essential.\n",
      "*   **Security:** Protecting AI agents from malicious attacks and ensuring data security are critical.\n",
      "*   **Training and Maintenance:**  AI agents require ongoing training and maintenance to ensure they remain accurate and effective.\n",
      "*   **Integration with Existing Systems:** Integrating AI agents with existing systems can be challenging and may require significant effort.\n",
      "\n",
      "By understanding these benefits and considerations, organizations can make informed decisions about whether and how to use AI agents to achieve their goals.\n",
      "\n",
      "Model 2 Response: That's a great start! You've captured the core benefits well. Here's a more comprehensive breakdown, expanding on your points and adding some nuances:\n",
      "\n",
      "**Core Benefits of Using AI Agents:**\n",
      "\n",
      "*   **Increased Efficiency & Productivity:**\n",
      "    *   **Automation of Repetitive Tasks:** AI Agents excel at automating repetitive, rule-based tasks, eliminating human error and freeing up human employees for more strategic and creative work.  Examples include data entry, invoice processing, report generation, and routine customer service inquiries.\n",
      "    *   **24/7 Availability:** AI Agents don't need sleep or breaks, providing continuous operation and service delivery, regardless of time zones or work hours. This can lead to faster turnaround times and improved service levels.\n",
      "    *   **Faster Processing Speed:**  AI agents can process information and make decisions much faster than humans, leading to quicker execution of tasks and faster response times.\n",
      "    *   **Scalability:** AI agents can easily scale up or down to meet changing demands, without the need for additional hiring and training.\n",
      "\n",
      "*   **Enhanced Decision-Making:**\n",
      "    *   **Data Analysis and Insights:** AI agents can analyze vast datasets to identify patterns, trends, and insights that humans might miss. This enables data-driven decision-making in areas like marketing, product development, and risk management.\n",
      "    *   **Predictive Analytics:** AI agents can use machine learning algorithms to predict future outcomes based on historical data, allowing organizations to anticipate problems and opportunities.\n",
      "    *   **Objectivity and Consistency:** AI Agents make decisions based on predefined rules and algorithms, eliminating human biases and ensuring consistent results.\n",
      "\n",
      "*   **Improved Customer Experience:**\n",
      "    *   **Personalized Interactions:** AI agents can personalize interactions with customers based on their individual preferences and past behavior, leading to more engaging and satisfying experiences.  Examples include personalized product recommendations, targeted marketing campaigns, and customized customer service responses.\n",
      "    *   **Instant Support and Availability:** AI-powered chatbots can provide instant support to customers 24/7, answering common questions and resolving simple issues.\n",
      "    *   **Consistent Service Quality:** AI agents provide consistent service quality, regardless of the customer's mood or the time of day.\n",
      "\n",
      "*   **Cost Reduction:**\n",
      "    *   **Reduced Labor Costs:** By automating tasks and improving efficiency, AI agents can reduce the need for human labor, leading to significant cost savings.\n",
      "    *   **Lower Operational Costs:** AI agents can optimize resource allocation, reduce waste, and improve efficiency, leading to lower operational costs.\n",
      "    *   **Reduced Errors and Rework:** By minimizing human error, AI agents can reduce the need for rework and corrections, saving time and money.\n",
      "\n",
      "*   **Improved Accuracy and Reliability:**\n",
      "    *   **Reduced Human Error:** AI agents are less prone to human error, leading to more accurate and reliable results.\n",
      "    *   **Consistent Performance:** AI agents perform consistently, regardless of fatigue or external factors.\n",
      "\n",
      "*   **Innovation and New Opportunities:**\n",
      "    *   **Identifying New Markets and Trends:** By analyzing data and identifying patterns, AI agents can help organizations discover new markets and trends.\n",
      "    *   **Developing New Products and Services:** AI agents can be used to develop new products and services that meet the evolving needs of customers.\n",
      "    *   **Automated Research and Development:** AI Agents can automate aspects of research and development, accelerating the innovation process.\n",
      "\n",
      "**Examples of AI Agent Applications:**\n",
      "\n",
      "*   **Customer Service:** Chatbots, virtual assistants\n",
      "*   **Marketing:** Personalized advertising, content creation, lead generation\n",
      "*   **Sales:** Sales automation, lead scoring, opportunity management\n",
      "*   **Finance:** Fraud detection, risk management, algorithmic trading\n",
      "*   **Healthcare:** Diagnosis, treatment planning, drug discovery\n",
      "*   **Manufacturing:** Process optimization, quality control, predictive maintenance\n",
      "*   **Logistics:** Route optimization, supply chain management, warehouse automation\n",
      "\n",
      "**Important Considerations:**\n",
      "\n",
      "*   **Ethical Implications:**  It's crucial to consider the ethical implications of AI agents, such as bias, privacy, and job displacement.  Transparency and fairness are essential.\n",
      "*   **Security:** Protecting AI agents from malicious attacks and ensuring data security are critical.\n",
      "*   **Training and Maintenance:**  AI agents require ongoing training and maintenance to ensure they remain accurate and effective.\n",
      "*   **Integration with Existing Systems:** Integrating AI agents with existing systems can be challenging and may require significant effort.\n",
      "\n",
      "By understanding these benefits and considerations, organizations can make informed decisions about whether and how to use AI agents to achieve their goals.\n",
      "\n"
     ]
    }
   ],
   "source": [
    "from pprint import pprint\n",
    "from IPython.display import Markdown, display\n",
    "\n",
    "# Start an interactive conversation\n",
    "# Display the full content of the `answer` and `competitors` lists without truncation\n",
    "\n",
    "print(\"Answer List:\")\n",
    "pprint(answer)\n",
    "# Display the answer list as markdown\n",
    "display(Markdown(\"### Answer List\"))\n",
    "for idx, ans in enumerate(answer, 1):\n",
    "    display(Markdown(f\"**{idx}.** {ans}\"))\n",
    "\n",
    "# Display the competitors list as markdown\n",
    "display(Markdown(\"### Competitors List\"))\n",
    "for idx, comp in enumerate(competitors, 1):\n",
    "    display(Markdown(f\"**{idx}.** {comp}\"))\n",
    "print(\"\\nCompetitors List:\")\n",
    "pprint(competitors)\n",
    "question = \"What are the benefits of using AI Agents?\"\n",
    "interactive_conversation(\"gpt-4\", \"gemini-2.0-flash\", question, num_turns=1)"
   ]
  },
  {
   "cell_type": "code",
   "execution_count": null,
   "id": "b6c9b14a",
   "metadata": {},
   "outputs": [],
   "source": []
  },
  {
   "cell_type": "code",
   "execution_count": null,
   "id": "6a0a8fdc",
   "metadata": {},
   "outputs": [],
   "source": []
  }
 ],
 "metadata": {
  "kernelspec": {
   "display_name": "py-learn-py310",
   "language": "python",
   "name": "python3"
  },
  "language_info": {
   "codemirror_mode": {
    "name": "ipython",
    "version": 3
   },
   "file_extension": ".py",
   "mimetype": "text/x-python",
   "name": "python",
   "nbconvert_exporter": "python",
   "pygments_lexer": "ipython3",
   "version": "3.10.16"
  }
 },
 "nbformat": 4,
 "nbformat_minor": 5
}
